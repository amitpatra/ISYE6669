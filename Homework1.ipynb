{
 "cells": [
  {
   "cell_type": "code",
   "execution_count": 1,
   "id": "3da51347",
   "metadata": {},
   "outputs": [],
   "source": [
    "import pandas as pd\n",
    "import numpy as np\n",
    "from cvxpy import *"
   ]
  },
  {
   "cell_type": "code",
   "execution_count": 2,
   "id": "ab34f0b7",
   "metadata": {},
   "outputs": [],
   "source": [
    "def expected_return(df):\n",
    "    # read monthly_prices.csv\n",
    "    mp = df\n",
    "    mr = pd.DataFrame()\n",
    "\n",
    "    # compute monthly returns\n",
    "    for s in mp.columns:\n",
    "        date = mp.index[0]\n",
    "        pr0 = mp[s][date] \n",
    "        for t in range(1,len(mp.index)):\n",
    "            date = mp.index[t]\n",
    "            pr1 = mp[s][date]\n",
    "            ret = (pr1-pr0)/pr0\n",
    "            mr.at[date, s] = ret\n",
    "            pr0 = pr1\n",
    "\n",
    "    # get symbol names\n",
    "    symbols = mr.columns\n",
    "\n",
    "    # convert monthly return data frame to a numpy matrix\n",
    "    return_data = mr.to_numpy().T\n",
    "\n",
    "    # compute mean return\n",
    "    r = np.asarray(np.mean(return_data, axis=1))\n",
    "\n",
    "    # covariance\n",
    "    C = np.asmatrix(np.cov(return_data))\n",
    "\n",
    "    # print out expected return and std deviation\n",
    "    print (\"----------------------\")\n",
    "    for j in range(len(symbols)):\n",
    "        print ('%s: Exp ret = %f, Risk = %f' %(symbols[j],r[j], C[j,j]**0.5))\n",
    "\n",
    "\n",
    "    # set up optimization model\n",
    "    n = len(symbols)\n",
    "    x = Variable(n)\n",
    "    req_return = 0.01\n",
    "    ret = r.T@x\n",
    "    risk = quad_form(x, C)\n",
    "    prob = Problem(Minimize(risk), \n",
    "                   [sum(x) == 1, ret >= req_return,\n",
    "                    x >= 0])\n",
    "\n",
    "    # solve problem and write solution\n",
    "    try:\n",
    "        prob.solve()\n",
    "        print (\"----------------------\")\n",
    "        print (\"Optimal portfolio\")\n",
    "        print (\"----------------------\")\n",
    "        for s in range(len(symbols)):\n",
    "            print ('{}'.format(symbols[s]) + ' = ${:.2f}'.format(round(x.value[s] * 1000,2)))\n",
    "        print (\"----------------------\")\n",
    "        print ('Exp ret = %f' %(ret.value))\n",
    "        print ('risk    = %f' %((risk.value)**0.5))\n",
    "        print (\"----------------------\")\n",
    "    except:\n",
    "        print ('Error')"
   ]
  },
  {
   "cell_type": "code",
   "execution_count": 3,
   "id": "f11915b1",
   "metadata": {},
   "outputs": [
    {
     "name": "stdout",
     "output_type": "stream",
     "text": [
      "----------------------\n",
      "MSFT: Exp ret = 0.024611, Risk = 0.058040\n",
      "V: Exp ret = 0.018237, Risk = 0.042807\n",
      "WMT: Exp ret = 0.009066, Risk = 0.044461\n",
      "----------------------\n",
      "Optimal portfolio\n",
      "----------------------\n",
      "MSFT = $100.50\n",
      "V = $414.33\n",
      "WMT = $485.16\n",
      "----------------------\n",
      "Exp ret = 0.014428\n",
      "risk    = 0.025495\n",
      "----------------------\n"
     ]
    }
   ],
   "source": [
    "in_class_mp = pd.read_csv('monthly_prices.csv', index_col = 0)\n",
    "expected_return(in_class_mp)"
   ]
  },
  {
   "cell_type": "code",
   "execution_count": 12,
   "id": "022eccd0",
   "metadata": {},
   "outputs": [
    {
     "name": "stdout",
     "output_type": "stream",
     "text": [
      "[*********************100%***********************]  3 of 3 completed\n",
      "----------------------\n",
      "MSFT: Exp ret = 0.013214, Risk = 0.064394\n",
      "V: Exp ret = 0.003721, Risk = 0.074425\n",
      "WMT: Exp ret = 0.000418, Risk = 0.062550\n",
      "----------------------\n",
      "Optimal portfolio\n",
      "----------------------\n",
      "MSFT = $687.70\n",
      "V = $236.74\n",
      "WMT = $75.56\n",
      "----------------------\n",
      "Exp ret = 0.010000\n",
      "risk    = 0.054507\n",
      "----------------------\n"
     ]
    }
   ],
   "source": [
    "import yfinance as yf\n",
    "\n",
    "data = yf.download(\"MSFT V WMT\", start=\"2020-09-01\", end=\"2022-08-24\", interval=\"1mo\")\n",
    "test = data\n",
    "data = data.dropna()\n",
    "data = data['Adj Close']\n",
    "data = data.reset_index()\n",
    "data = data.drop(columns='Date')\n",
    "\n",
    "expected_return(data)"
   ]
  }
 ],
 "metadata": {
  "kernelspec": {
   "display_name": "Python 3 (ipykernel)",
   "language": "python",
   "name": "python3"
  },
  "language_info": {
   "codemirror_mode": {
    "name": "ipython",
    "version": 3
   },
   "file_extension": ".py",
   "mimetype": "text/x-python",
   "name": "python",
   "nbconvert_exporter": "python",
   "pygments_lexer": "ipython3",
   "version": "3.7.13"
  }
 },
 "nbformat": 4,
 "nbformat_minor": 5
}
