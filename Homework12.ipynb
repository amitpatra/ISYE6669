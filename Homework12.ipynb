{
 "cells": [
  {
   "cell_type": "code",
   "execution_count": 38,
   "metadata": {},
   "outputs": [],
   "source": [
    "import numpy as np\n",
    "import cvxpy as cp\n",
    "from matplotlib import pyplot as plt"
   ]
  },
  {
   "cell_type": "code",
   "execution_count": 43,
   "metadata": {},
   "outputs": [],
   "source": [
    "state = np.random.RandomState(6669)\n",
    "villages = np.random.uniform(0, 10, size=(20,2))"
   ]
  },
  {
   "cell_type": "code",
   "execution_count": 52,
   "metadata": {},
   "outputs": [
    {
     "name": "stdout",
     "output_type": "stream",
     "text": [
      "Station X Location: 4.880113865176851\n",
      "Station Y Location: 4.984478423255709\n",
      "Station Minimum Longest Distance: 5.383116638932085\n"
     ]
    }
   ],
   "source": [
    "station = cp.Variable(3)\n",
    "\n",
    "obj = cp.Minimize(station[2])\n",
    "\n",
    "constraints = []\n",
    "for village in villages:\n",
    "    constraints.append(cp.SOC(station[2], village-station[:2]))\n",
    "\n",
    "prob = cp.Problem(obj, constraints)\n",
    "prob.solve()\n",
    "\n",
    "print(\"Station X Location: {}\".format(station.value[0]))\n",
    "print(\"Station Y Location: {}\".format(station.value[1]))\n",
    "print(\"Station Minimum Longest Distance: {}\".format(prob.value))\n"
   ]
  },
  {
   "cell_type": "code",
   "execution_count": 45,
   "metadata": {},
   "outputs": [
    {
     "data": {
      "image/png": "[encoded data removed]",
      "text/plain": [
       "<Figure size 432x288 with 1 Axes>"
      ]
     },
     "metadata": {
      "needs_background": "light"
     },
     "output_type": "display_data"
    }
   ],
   "source": [
    "plt.scatter(villages[:, 0], villages[:, 1], color='red')\n",
    "plt.scatter(station[:1].value, station[1:2].value, c='green')\n",
    "plt.show()"
   ]
  }
 ],
 "metadata": {
  "kernelspec": {
   "display_name": "Python 3.7.13 ('isye6669')",
   "language": "python",
   "name": "python3"
  },
  "language_info": {
   "codemirror_mode": {
    "name": "ipython",
    "version": 3
   },
   "file_extension": ".py",
   "mimetype": "text/x-python",
   "name": "python",
   "nbconvert_exporter": "python",
   "pygments_lexer": "ipython3",
   "version": "3.7.13"
  },
  "orig_nbformat": 4,
  "vscode": {
   "interpreter": {
    "hash": "b36084afb6e36d5d81a2b5dbbade1a5b229061d2f210c281c15a1c8ecfaa5fdb"
   }
  }
 },
 "nbformat": 4,
 "nbformat_minor": 2
}
