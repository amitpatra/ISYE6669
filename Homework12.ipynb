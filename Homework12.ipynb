{
 "cells": [
  {
   "cell_type": "code",
   "execution_count": 1,
   "metadata": {},
   "outputs": [],
   "source": [
    "import numpy as np\n",
    "import cvxpy as cp\n",
    "from matplotlib import pyplot as plt"
   ]
  },
  {
   "cell_type": "code",
   "execution_count": 2,
   "metadata": {},
   "outputs": [],
   "source": [
    "state = np.random.RandomState(6669)\n",
    "villages = np.random.uniform(0, 10, size=(20,2))"
   ]
  },
  {
   "cell_type": "code",
   "execution_count": 20,
   "metadata": {},
   "outputs": [
    {
     "name": "stdout",
     "output_type": "stream",
     "text": [
      "Station X Location: 5.2601\n",
      "Station Y Location: 5.1207\n",
      "Station Minimum Longest Distance: 5.8353\n"
     ]
    }
   ],
   "source": [
    "#station[0] = stationX location\n",
    "#station[1] = stationY location\n",
    "#station[2] = station max euclidean distance (obj variable)\n",
    "station = cp.Variable(3)\n",
    "\n",
    "#minimize the max euclidean distance to all villages\n",
    "obj = cp.Minimize(station[2])\n",
    "\n",
    "#for each village, add a constraint that is an SOC constraint on station[2] to the station location\n",
    "constraints = []\n",
    "for village in villages:\n",
    "    constraints.append(cp.SOC(station[2], station[:2]-village))\n",
    "\n",
    "prob = cp.Problem(obj, constraints)\n",
    "prob.solve()\n",
    "\n",
    "print(\"Station X Location: {0:.4f}\".format(station[0].value))\n",
    "print(\"Station Y Location: {0:.4f}\".format(station[1].value))\n",
    "print(\"Station Minimum Longest Distance: {0:.4f}\".format(prob.value))\n"
   ]
  },
  {
   "cell_type": "code",
   "execution_count": 21,
   "metadata": {},
   "outputs": [
    {
     "data": {
      "image/png": "[encoded data removed]",
      "text/plain": [
       "<Figure size 432x288 with 1 Axes>"
      ]
     },
     "metadata": {
      "needs_background": "light"
     },
     "output_type": "display_data"
    }
   ],
   "source": [
    "plt.scatter(villages[:, 0], villages[:, 1], color='red')\n",
    "plt.scatter(station[:1].value, station[1:2].value, c='green')\n",
    "plt.show()"
   ]
  },
  {
   "cell_type": "code",
   "execution_count": null,
   "metadata": {},
   "outputs": [],
   "source": []
  }
 ],
 "metadata": {
  "kernelspec": {
   "display_name": "Python 3.7.13 ('isye6669')",
   "language": "python",
   "name": "python3"
  },
  "language_info": {
   "codemirror_mode": {
    "name": "ipython",
    "version": 3
   },
   "file_extension": ".py",
   "mimetype": "text/x-python",
   "name": "python",
   "nbconvert_exporter": "python",
   "pygments_lexer": "ipython3",
   "version": "3.7.13"
  },
  "orig_nbformat": 4,
  "vscode": {
   "interpreter": {
    "hash": "b36084afb6e36d5d81a2b5dbbade1a5b229061d2f210c281c15a1c8ecfaa5fdb"
   }
  }
 },
 "nbformat": 4,
 "nbformat_minor": 2
}
