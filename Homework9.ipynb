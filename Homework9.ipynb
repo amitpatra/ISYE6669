{
 "cells": [
  {
   "cell_type": "code",
   "execution_count": 45,
   "id": "8e4a78cc",
   "metadata": {},
   "outputs": [
    {
     "data": {
      "text/plain": [
       "Text(0, 0.5, '$y$')"
      ]
     },
     "execution_count": 45,
     "metadata": {},
     "output_type": "execute_result"
    },
    {
     "data": {
      "image/png": "[encoded data removed]",
      "text/plain": [
       "<Figure size 432x288 with 1 Axes>"
      ]
     },
     "metadata": {
      "needs_background": "light"
     },
     "output_type": "display_data"
    }
   ],
   "source": [
    "import numpy as np\n",
    "import matplotlib.pyplot as plt\n",
    "\n",
    "# plot the feasible region\n",
    "d = np.linspace(-2,16,300)\n",
    "x,y = np.meshgrid(d,d)\n",
    "plt.imshow( ((y>=0) & (x>=0) & (2.0*x + 3.0*y >= 4.0) & (x + 2.0*y >= 1.0) & (3.0*x + y >= 3.0) & (4.0*x + 6.0*y >= 10.0)).astype(int) , \n",
    "                extent=(x.min(),x.max(),y.min(),y.max()),origin=\"lower\", cmap=\"Greys\", alpha = 0.3);\n",
    "\n",
    "\n",
    "# plot the lines defining the constraints\n",
    "x = np.linspace(-10, 20, 2000)\n",
    "\n",
    "y1 = (4.0/3.0) - ((2.0/3.0) * x)\n",
    "y2 = (1.0/2.0) - (x / 2.0)\n",
    "y3 = 3.0 - (3.0 * x)\n",
    "y4 = (10.0/6.0) - ((4.0/6.0)*x)\n",
    "\n",
    "# Make plot\n",
    "plt.plot(x, y1, label=r'$2x+3y\\geq4$')\n",
    "plt.plot(x, y2, label=r'$x+2y\\geq1$')\n",
    "plt.plot(x, y3, label=r'$3x+y\\geq3$')\n",
    "plt.plot(x, y4, label=r'$4x+6y\\geq10$')\n",
    "plt.axhline(y=0, color='purple', linestyle='-', label=r'$y\\geq0$')\n",
    "plt.axvline(x=0, color='orange', linestyle='-', label=r'$x\\geq0$')\n",
    "plt.xlim(-2,6)\n",
    "plt.ylim(-2,6)\n",
    "plt.legend(bbox_to_anchor=(1.05, 1), loc=2, borderaxespad=0.)\n",
    "plt.xlabel(r'$x$')\n",
    "plt.ylabel(r'$y$')"
   ]
  },
  {
   "cell_type": "code",
   "execution_count": 37,
   "id": "1a4d6fc9",
   "metadata": {},
   "outputs": [
    {
     "name": "stdout",
     "output_type": "stream",
     "text": [
      "Solution: 800.00\n",
      "Y1: 0.57\n",
      "Y2: 1.29\n"
     ]
    }
   ],
   "source": [
    "import cvxpy as cp\n",
    "\n",
    "x = cp.Variable()\n",
    "y = cp.Variable()\n",
    "\n",
    "constraints = [x >= 0, y>=0, 2*x+3*y>=4, x+2*y>=1, 3*x+y>=3, 4*x+6*y>=10]\n",
    "objective = cp.Minimize(500*x + 400*y)\n",
    "problem = cp.Problem(objective, constraints)\n",
    "\n",
    "sol = problem.solve()\n",
    "print(\"Solution: {0:.2f}\".format(sol))\n",
    "print(\"Y1: {0:.2f}\".format(x.value))\n",
    "print(\"Y2: {0:.2f}\".format(y.value))"
   ]
  },
  {
   "cell_type": "code",
   "execution_count": 41,
   "id": "03284025",
   "metadata": {},
   "outputs": [
    {
     "data": {
      "text/plain": [
       "Text(0, 0.5, '$y$')"
      ]
     },
     "execution_count": 41,
     "metadata": {},
     "output_type": "execute_result"
    },
    {
     "data": {
      "image/png": "[encoded data removed]",
      "text/plain": [
       "<Figure size 432x288 with 1 Axes>"
      ]
     },
     "metadata": {
      "needs_background": "light"
     },
     "output_type": "display_data"
    }
   ],
   "source": [
    "# plot the feasible region\n",
    "d = np.linspace(-2,16,300)\n",
    "x,y = np.meshgrid(d,d)\n",
    "plt.imshow( ((2.0*y>=1.0) & (2.0*x+2.0*y>=1.0) & (x + 3.0*y >= 1.0) & (x + y >= 1.0)).astype(int) , \n",
    "                extent=(x.min(),x.max(),y.min(),y.max()),origin=\"lower\", cmap=\"Greys\", alpha = 0.3);\n",
    "\n",
    "\n",
    "# plot the lines defining the constraints\n",
    "x = np.linspace(-10, 20, 2000)\n",
    "\n",
    "y2 = (1.0/2.0) - x\n",
    "y3 = (1.0/3.0) - (x/3.0)\n",
    "y4 = 1.0 - x\n",
    "\n",
    "# Make plot\n",
    "# plt.plot(x, y1, label=r'$2y\\geq1$')\n",
    "plt.axhline(y=0.5, color='r', linestyle='-', label=r'$2y\\geq1$')\n",
    "plt.plot(x, y2, label=r'$2x+2y\\geq1$')\n",
    "plt.plot(x, y3, label=r'$x+3y\\geq1$')\n",
    "plt.plot(x, y4, label=r'$x+y\\geq1$')\n",
    "plt.xlim(-2,6)\n",
    "plt.ylim(-2,6)\n",
    "plt.legend(bbox_to_anchor=(1.05, 1), loc=2, borderaxespad=0.)\n",
    "plt.xlabel(r'$x$')\n",
    "plt.ylabel(r'$y$')"
   ]
  },
  {
   "cell_type": "code",
   "execution_count": null,
   "id": "55148848",
   "metadata": {},
   "outputs": [],
   "source": []
  }
 ],
 "metadata": {
  "kernelspec": {
   "display_name": "Python 3.8.6 64-bit",
   "language": "python",
   "name": "python3"
  },
  "language_info": {
   "codemirror_mode": {
    "name": "ipython",
    "version": 3
   },
   "file_extension": ".py",
   "mimetype": "text/x-python",
   "name": "python",
   "nbconvert_exporter": "python",
   "pygments_lexer": "ipython3",
   "version": "3.8.6"
  },
  "vscode": {
   "interpreter": {
    "hash": "0adcc2737ebf6a4a119f135174df96668767fca1ef1112612db5ecadf2b6d608"
   }
  }
 },
 "nbformat": 4,
 "nbformat_minor": 5
}
