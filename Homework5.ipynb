{
 "cells": [
  {
   "cell_type": "code",
   "execution_count": 47,
   "id": "62426772",
   "metadata": {},
   "outputs": [],
   "source": [
    "import numpy as np\n",
    "from cvxpy import *"
   ]
  },
  {
   "cell_type": "code",
   "execution_count": 90,
   "id": "6c744528",
   "metadata": {},
   "outputs": [],
   "source": [
    "p1 = Variable()\n",
    "p2 = Variable()\n",
    "p3 = Variable()\n",
    "f12 = Variable()\n",
    "f23 = Variable()\n",
    "f34 = Variable()\n",
    "f45 = Variable()\n",
    "f56 = Variable()\n",
    "f61 = Variable()\n",
    "theta1 = Variable()\n",
    "theta2 = Variable()\n",
    "theta3 = Variable()\n",
    "theta4 = Variable()\n",
    "theta5 = Variable()\n",
    "theta6 = Variable()"
   ]
  },
  {
   "cell_type": "code",
   "execution_count": 95,
   "id": "ab971ad9",
   "metadata": {},
   "outputs": [],
   "source": [
    "constr = [\n",
    "    p1 >= 20,\n",
    "    p2 >= 20,\n",
    "    p3 >= 10,\n",
    "    \n",
    "    p1 <= 200,\n",
    "    p2 <= 150,\n",
    "    p3 <= 150,\n",
    "    \n",
    "    p1 == -f61 + f12,\n",
    "    p2 == -f23 + f34,\n",
    "    p3 == -f45 + f56,\n",
    "    \n",
    "    f12 - f23 == 110,\n",
    "    f34 - f45 == 65,\n",
    "    f56 - f61 == 95,\n",
    "    \n",
    "    f12 == 11.6*(theta1 - theta2),\n",
    "    f23 == 5.9*(theta2 - theta3),\n",
    "    f34 == 13.7*(theta3 - theta4),\n",
    "    f45 == 9.8*(theta4 - theta5),\n",
    "    f56 == 5.6*(theta5 - theta6),\n",
    "    f61 == 10.5*(theta6 - theta1),\n",
    "    \n",
    "    f12 >= -100,\n",
    "    f12 <= 100,\n",
    "    f23 >= -110,\n",
    "    f23 <= 110,\n",
    "    f34 >= -50,\n",
    "    f34 <= 50,\n",
    "    f45 >= -80,\n",
    "    f45 <= 80,\n",
    "    f56 >= -60,\n",
    "    f56 <= 60,\n",
    "    f61 >= -40,\n",
    "    f61 <= 40\n",
    "]"
   ]
  },
  {
   "cell_type": "code",
   "execution_count": 96,
   "id": "ac829c11",
   "metadata": {},
   "outputs": [],
   "source": [
    "obj = Minimize(16*p1 + 20*p2 + 8*p3)"
   ]
  },
  {
   "cell_type": "code",
   "execution_count": 97,
   "id": "2d8e454b",
   "metadata": {},
   "outputs": [],
   "source": [
    "prob = Problem(obj, constr)\n",
    "result = prob.solve()"
   ]
  },
  {
   "cell_type": "code",
   "execution_count": 98,
   "id": "9c432b91",
   "metadata": {},
   "outputs": [
    {
     "name": "stdout",
     "output_type": "stream",
     "text": [
      "Optimal Objective Value:  3304.960110241638\n",
      "p1:  113.12001377583286\n",
      "p2:  20.000000002914298\n",
      "p3:  136.87998622125332\n",
      "f12:  78.120013776669\n",
      "f23:  -31.879986223331056\n",
      "f34:  -11.87998622041689\n",
      "f45:  -76.87998622041705\n",
      "f56:  60.00000000083621\n",
      "f61:  -34.99999999916387\n",
      "theta1:  0.9221260568252362\n",
      "theta2:  -5.812357889439371\n",
      "theta3:  -0.4089703939595771\n",
      "theta4:  0.4581818849029356\n",
      "theta5:  8.303078438006668\n",
      "theta6:  -2.411207276428425\n"
     ]
    }
   ],
   "source": [
    "print (\"Optimal Objective Value: \", result)\n",
    "print (\"p1: \", p1.value)\n",
    "print (\"p2: \", p2.value)\n",
    "print (\"p3: \", p3.value)\n",
    "print (\"f12: \", f12.value)\n",
    "print (\"f23: \", f23.value)\n",
    "print (\"f34: \", f34.value)\n",
    "print (\"f45: \", f45.value)\n",
    "print (\"f56: \", f56.value)\n",
    "print (\"f61: \", f61.value)\n",
    "print (\"theta1: \", theta1.value)\n",
    "print (\"theta2: \", theta2.value)\n",
    "print (\"theta3: \", theta3.value)\n",
    "print (\"theta4: \", theta4.value)\n",
    "print (\"theta5: \", theta5.value)\n",
    "print (\"theta6: \", theta6.value)"
   ]
  },
  {
   "cell_type": "code",
   "execution_count": 81,
   "id": "83657e35",
   "metadata": {},
   "outputs": [
    {
     "data": {
      "text/plain": [
       "-79.99999997993223"
      ]
     },
     "execution_count": 81,
     "metadata": {},
     "output_type": "execute_result"
    }
   ],
   "source": [
    "f56.value * 8 + f61.value * 16"
   ]
  },
  {
   "cell_type": "code",
   "execution_count": 82,
   "id": "2e92efd2",
   "metadata": {},
   "outputs": [
    {
     "data": {
      "text/plain": [
       "1809.9202204133258"
      ]
     },
     "execution_count": 82,
     "metadata": {},
     "output_type": "execute_result"
    }
   ],
   "source": [
    "p1.value * 16"
   ]
  },
  {
   "cell_type": "code",
   "execution_count": 83,
   "id": "45093694",
   "metadata": {},
   "outputs": [
    {
     "data": {
      "text/plain": [
       "400.000000058286"
      ]
     },
     "execution_count": 83,
     "metadata": {},
     "output_type": "execute_result"
    }
   ],
   "source": [
    "p2.value * 20"
   ]
  },
  {
   "cell_type": "code",
   "execution_count": 84,
   "id": "cdb8ff17",
   "metadata": {},
   "outputs": [
    {
     "data": {
      "text/plain": [
       "1095.0398897700265"
      ]
     },
     "execution_count": 84,
     "metadata": {},
     "output_type": "execute_result"
    }
   ],
   "source": [
    "p3.value * 8"
   ]
  },
  {
   "cell_type": "code",
   "execution_count": null,
   "id": "9ff76d97",
   "metadata": {},
   "outputs": [],
   "source": []
  }
 ],
 "metadata": {
  "kernelspec": {
   "display_name": "Python 3 (ipykernel)",
   "language": "python",
   "name": "python3"
  },
  "language_info": {
   "codemirror_mode": {
    "name": "ipython",
    "version": 3
   },
   "file_extension": ".py",
   "mimetype": "text/x-python",
   "name": "python",
   "nbconvert_exporter": "python",
   "pygments_lexer": "ipython3",
   "version": "3.7.13"
  }
 },
 "nbformat": 4,
 "nbformat_minor": 5
}
