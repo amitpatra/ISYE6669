{
 "cells": [
  {
   "cell_type": "code",
   "execution_count": 2,
   "id": "3b1e0587",
   "metadata": {},
   "outputs": [],
   "source": [
    "import numpy as np\n",
    "from scipy import linalg"
   ]
  },
  {
   "cell_type": "code",
   "execution_count": 73,
   "id": "5df40724",
   "metadata": {},
   "outputs": [],
   "source": [
    "A = np.array([[1, 1, 1, 0, 0], \n",
    "     [-1, 1, 0, 1, 0],\n",
    "     [1, -1, 0, 0, 1]])\n",
    "\n",
    "b = np.array([[4], [2], [2]])\n",
    "\n",
    "c = np.array([[-2], [4], [0], [0], [0]])"
   ]
  },
  {
   "cell_type": "code",
   "execution_count": 79,
   "id": "cbab9c48",
   "metadata": {},
   "outputs": [
    {
     "name": "stdout",
     "output_type": "stream",
     "text": [
      "B = \n",
      "[[ 1  1  0]\n",
      " [-1  1  0]\n",
      " [ 1 -1  1]]\n",
      "\n",
      " B^-1 = \n",
      "[[ 0.5 -0.5 -0. ]\n",
      " [ 0.5  0.5 -0. ]\n",
      " [ 0.   1.   1. ]]\n",
      "\n",
      " x_b\n",
      "[[1.]\n",
      " [3.]\n",
      " [4.]]\n",
      "\n",
      " x_n\n",
      "[[0]\n",
      " [0]]\n",
      "\n",
      " c_3_bar = \n",
      "[-1.]\n",
      "\n",
      " c_4_bar = \n",
      "[-3.]\n"
     ]
    }
   ],
   "source": [
    "# iteration i = 1\n",
    "\n",
    "i = 1\n",
    "j = 2\n",
    "p = 3\n",
    "q = 4\n",
    "k = 5\n",
    "\n",
    "B = A[:, [i-1, j-1, k-1]]\n",
    "B_inv = linalg.inv(B)\n",
    "x_b = B_inv @ b\n",
    "x_n = np.array([[0], [0]])\n",
    "c_bar = c[p-1] - c[[i-1, j-1, k-1]].T @ B_inv @ A[:, p-1]\n",
    "c_bar_2 = c[q-1] - c[[i-1, j-1, k-1]].T @ B_inv @ A[:, q-1]\n",
    "\n",
    "\n",
    "print(\"B = \")\n",
    "print(B)\n",
    "print(\"\\n B^-1 = \")\n",
    "print(B_inv)\n",
    "print(\"\\n x_b\")\n",
    "print(x_b)\n",
    "print(\"\\n x_n\")\n",
    "print(x_n)\n",
    "print(\"\\n c_\"+str(p)+\"_bar = \")\n",
    "print(c_bar)\n",
    "print(\"\\n c_\"+str(q)+\"_bar = \")\n",
    "print(c_bar_2)"
   ]
  },
  {
   "cell_type": "code",
   "execution_count": 81,
   "id": "01b514a0",
   "metadata": {},
   "outputs": [
    {
     "name": "stdout",
     "output_type": "stream",
     "text": [
      "1\n"
     ]
    },
    {
     "name": "stderr",
     "output_type": "stream",
     "text": [
      "/Users/garretttallman/opt/anaconda3/envs/isye6669/lib/python3.7/site-packages/ipykernel_launcher.py:3: RuntimeWarning: divide by zero encountered in true_divide\n",
      "  This is separate from the ipykernel package so we can avoid doing imports until\n"
     ]
    }
   ],
   "source": [
    "# x_3 enters the basis\n",
    "d = -B_inv @ A[:, p-1]\n",
    "values = [x_b[0]/ d[0], x_b[1]/ d[1], x_b[2]/ d[2]]\n",
    "theta_star = min(range(len(values)), key=values.__getitem__)\n",
    "print(theta_star)\n",
    "# x_1 exits the basis"
   ]
  },
  {
   "cell_type": "code",
   "execution_count": 83,
   "id": "207c62f0",
   "metadata": {},
   "outputs": [
    {
     "name": "stdout",
     "output_type": "stream",
     "text": [
      "B = \n",
      "[[ 1  1  0]\n",
      " [ 1  0  0]\n",
      " [-1  0  1]]\n",
      "\n",
      " B^-1 = \n",
      "[[ 0.  1. -0.]\n",
      " [ 1. -1.  0.]\n",
      " [ 0.  1.  1.]]\n",
      "\n",
      " x_b\n",
      "[[2.]\n",
      " [2.]\n",
      " [4.]]\n",
      "\n",
      " x_n\n",
      "[[0]\n",
      " [0]]\n",
      "\n",
      " c_1_bar = \n",
      "[2.]\n",
      "\n",
      " c_4_bar = \n",
      "[-4.]\n"
     ]
    }
   ],
   "source": [
    "# iteration i = 2\n",
    "\n",
    "i = 2\n",
    "j = 3\n",
    "p = 1\n",
    "q = 4\n",
    "k = 5\n",
    "\n",
    "B = A[:, [i-1, j-1, k-1]]\n",
    "B_inv = linalg.inv(B)\n",
    "x_b = B_inv @ b\n",
    "x_n = np.array([[0], [0]])\n",
    "c_bar = c[p-1] - c[[i-1, j-1, k-1]].T @ B_inv @ A[:, p-1]\n",
    "c_bar_2 = c[q-1] - c[[i-1, j-1, k-1]].T @ B_inv @ A[:, q-1]\n",
    "\n",
    "\n",
    "print(\"B = \")\n",
    "print(B)\n",
    "print(\"\\n B^-1 = \")\n",
    "print(B_inv)\n",
    "print(\"\\n x_b\")\n",
    "print(x_b)\n",
    "print(\"\\n x_n\")\n",
    "print(x_n)\n",
    "print(\"\\n c_\"+str(p)+\"_bar = \")\n",
    "print(c_bar)\n",
    "print(\"\\n c_\"+str(q)+\"_bar = \")\n",
    "print(c_bar_2)"
   ]
  },
  {
   "cell_type": "code",
   "execution_count": 84,
   "id": "bb2230be",
   "metadata": {},
   "outputs": [
    {
     "name": "stdout",
     "output_type": "stream",
     "text": [
      "1\n"
     ]
    },
    {
     "name": "stderr",
     "output_type": "stream",
     "text": [
      "/Users/garretttallman/opt/anaconda3/envs/isye6669/lib/python3.7/site-packages/ipykernel_launcher.py:3: RuntimeWarning: divide by zero encountered in true_divide\n",
      "  This is separate from the ipykernel package so we can avoid doing imports until\n"
     ]
    }
   ],
   "source": [
    "# x_4 enters the basis\n",
    "d = -B_inv @ A[:, -1]\n",
    "values = [x_b[0]/ d[0], x_b[1]/ d[1], x_b[2]/ d[2]]\n",
    "theta_star = min(range(len(values)), key=values.__getitem__)\n",
    "print(theta_star)\n",
    "# x_2 exits the basis"
   ]
  },
  {
   "cell_type": "code",
   "execution_count": 85,
   "id": "6a578051",
   "metadata": {},
   "outputs": [
    {
     "name": "stdout",
     "output_type": "stream",
     "text": [
      "B = \n",
      "[[1 0 0]\n",
      " [0 1 0]\n",
      " [0 0 1]]\n",
      "\n",
      " B^-1 = \n",
      "[[ 1. -0. -0.]\n",
      " [ 0.  1. -0.]\n",
      " [ 0.  0.  1.]]\n",
      "\n",
      " x_b\n",
      "[[4.]\n",
      " [2.]\n",
      " [2.]]\n",
      "\n",
      " x_n\n",
      "[[0]\n",
      " [0]]\n",
      "\n",
      " c_1_bar = \n",
      "[-2.]\n",
      "\n",
      " c_2_bar = \n",
      "[4.]\n"
     ]
    }
   ],
   "source": [
    "# iteration i = 3\n",
    "\n",
    "i = 3\n",
    "j = 4\n",
    "p = 1\n",
    "q = 2\n",
    "k = 5\n",
    "\n",
    "B = A[:, [i-1, j-1, k-1]]\n",
    "B_inv = linalg.inv(B)\n",
    "x_b = B_inv @ b\n",
    "x_n = np.array([[0], [0]])\n",
    "c_bar = c[p-1] - c[[i-1, j-1, k-1]].T @ B_inv @ A[:, p-1]\n",
    "c_bar_2 = c[q-1] - c[[i-1, j-1, k-1]].T @ B_inv @ A[:, q-1]\n",
    "\n",
    "\n",
    "print(\"B = \")\n",
    "print(B)\n",
    "print(\"\\n B^-1 = \")\n",
    "print(B_inv)\n",
    "print(\"\\n x_b\")\n",
    "print(x_b)\n",
    "print(\"\\n x_n\")\n",
    "print(x_n)\n",
    "print(\"\\n c_\"+str(p)+\"_bar = \")\n",
    "print(c_bar)\n",
    "print(\"\\n c_\"+str(q)+\"_bar = \")\n",
    "print(c_bar_2)"
   ]
  },
  {
   "cell_type": "code",
   "execution_count": 86,
   "id": "4226b7c9",
   "metadata": {},
   "outputs": [
    {
     "name": "stdout",
     "output_type": "stream",
     "text": [
      "0\n"
     ]
    }
   ],
   "source": [
    "# x_1 enters the basis\n",
    "d = -B_inv @ A[:, p-1]\n",
    "values = [x_b[0]/ d[0], x_b[1]/ d[1], x_b[2]/ d[2]]\n",
    "theta_star = min(range(len(values)), key=values.__getitem__)\n",
    "print(theta_star)\n",
    "# x_5 exits the basis"
   ]
  },
  {
   "cell_type": "code",
   "execution_count": 87,
   "id": "709b5f85",
   "metadata": {},
   "outputs": [
    {
     "name": "stdout",
     "output_type": "stream",
     "text": [
      "B = \n",
      "[[ 1  1  0]\n",
      " [-1  0  1]\n",
      " [ 1  0  0]]\n",
      "\n",
      " B^-1 = \n",
      "[[ 0.  0.  1.]\n",
      " [ 1.  0. -1.]\n",
      " [ 0.  1.  1.]]\n",
      "\n",
      " x_b\n",
      "[[2.]\n",
      " [2.]\n",
      " [4.]]\n",
      "\n",
      " x_n\n",
      "[[0]\n",
      " [0]]\n",
      "\n",
      " c_2_bar = \n",
      "[2.]\n",
      "\n",
      " c_5_bar = \n",
      "[2.]\n"
     ]
    }
   ],
   "source": [
    "# iteration i = 4\n",
    "\n",
    "i = 1\n",
    "j = 3\n",
    "p = 2\n",
    "q = 5\n",
    "k = 4\n",
    "\n",
    "B = A[:, [i-1, j-1, k-1]]\n",
    "B_inv = linalg.inv(B)\n",
    "x_b = B_inv @ b\n",
    "x_n = np.array([[0], [0]])\n",
    "c_bar = c[p-1] - c[[i-1, j-1, k-1]].T @ B_inv @ A[:, p-1]\n",
    "c_bar_2 = c[q-1] - c[[i-1, j-1, k-1]].T @ B_inv @ A[:, q-1]\n",
    "\n",
    "\n",
    "print(\"B = \")\n",
    "print(B)\n",
    "print(\"\\n B^-1 = \")\n",
    "print(B_inv)\n",
    "print(\"\\n x_b\")\n",
    "print(x_b)\n",
    "print(\"\\n x_n\")\n",
    "print(x_n)\n",
    "print(\"\\n c_\"+str(p)+\"_bar = \")\n",
    "print(c_bar)\n",
    "print(\"\\n c_\"+str(q)+\"_bar = \")\n",
    "print(c_bar_2)"
   ]
  },
  {
   "cell_type": "code",
   "execution_count": null,
   "id": "1259dcda",
   "metadata": {},
   "outputs": [],
   "source": [
    "#this is optimal"
   ]
  }
 ],
 "metadata": {
  "kernelspec": {
   "display_name": "Python 3 (ipykernel)",
   "language": "python",
   "name": "python3"
  },
  "language_info": {
   "codemirror_mode": {
    "name": "ipython",
    "version": 3
   },
   "file_extension": ".py",
   "mimetype": "text/x-python",
   "name": "python",
   "nbconvert_exporter": "python",
   "pygments_lexer": "ipython3",
   "version": "3.7.13"
  }
 },
 "nbformat": 4,
 "nbformat_minor": 5
}
