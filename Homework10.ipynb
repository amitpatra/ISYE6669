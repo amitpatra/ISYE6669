{
 "cells": [
  {
   "cell_type": "code",
   "execution_count": 1,
   "id": "e86a8dc8",
   "metadata": {},
   "outputs": [],
   "source": [
    "import cvxpy as cp\n",
    "import cvxopt\n",
    "import numpy as np\n",
    "from scipy import linalg"
   ]
  },
  {
   "cell_type": "markdown",
   "id": "e45c3951",
   "metadata": {},
   "source": [
    "### RMP Step1 "
   ]
  },
  {
   "cell_type": "code",
   "execution_count": 3,
   "id": "80077e3e",
   "metadata": {},
   "outputs": [],
   "source": [
    "A = np.matrix([\n",
    "    [10, 0, 0],\n",
    "    [0, 7, 0],\n",
    "    [0, 0, 5]\n",
    "])\n",
    "b = np.matrix([15, 30, 20]).T\n",
    "x = cp.Variable((3,1))\n",
    "\n",
    "rmp_obj = cp.Minimize(cp.sum(x))\n",
    "rmp_constr = [\n",
    "    A @ x == b,\n",
    "    x >= 0\n",
    "]\n",
    "\n",
    "rmp_prob = cp.Problem(rmp_obj, rmp_constr)\n",
    "rmp_prob_optimal_val = rmp_prob.solve()"
   ]
  },
  {
   "cell_type": "code",
   "execution_count": 5,
   "id": "beede652",
   "metadata": {},
   "outputs": [
    {
     "name": "stdout",
     "output_type": "stream",
     "text": [
      "Optimal Solution:\n",
      "x1: [1.5]\n",
      "x2: [4.28571429]\n",
      "x3: [4.]\n",
      "---------------\n",
      "Basis: \n",
      "[[10  0  0]\n",
      " [ 0  7  0]\n",
      " [ 0  0  5]]\n",
      "---------------\n",
      "Basis^-1: \n",
      "[[ 0.1        -0.         -0.        ]\n",
      " [ 0.          0.14285714 -0.        ]\n",
      " [ 0.          0.          0.2       ]]\n",
      "---------------\n",
      "Y_hat: \n",
      "[[0.1       ]\n",
      " [0.14285714]\n",
      " [0.2       ]]\n"
     ]
    }
   ],
   "source": [
    "#optimal solution\n",
    "print(\"Optimal Solution:\")\n",
    "print(\"x1: {0}\".format(x.value[0]))\n",
    "print(\"x2: {0}\".format(x.value[1]))\n",
    "print(\"x3: {0}\".format(x.value[2]))\n",
    "print(\"---------------\")\n",
    "\n",
    "#optimal basis\n",
    "print(\"Basis: \\n{0}\".format(A))\n",
    "print(\"---------------\")\n",
    "\n",
    "#optimal basis inverse\n",
    "print(\"Basis^-1: \\n{0}\".format(linalg.inv(A)))\n",
    "print(\"---------------\")\n",
    "\n",
    "#dual problem solution\n",
    "y_hat = -rmp_prob.constraints[0].dual_value\n",
    "print(\"Y_hat: \\n{0}\".format(y_hat))"
   ]
  },
  {
   "cell_type": "markdown",
   "id": "6f2e961c",
   "metadata": {},
   "source": [
    "### Pricing Step1"
   ]
  },
  {
   "cell_type": "code",
   "execution_count": 8,
   "id": "87b7db67",
   "metadata": {},
   "outputs": [],
   "source": [
    "a = cp.Variable((3,1), integer=True)\n",
    "w = np.matrix([7, 11, 16]).T\n",
    "\n",
    "pricing_obj = cp.Maximize(y_hat.T @ a)\n",
    "pricing_constr = [\n",
    "    w.T @ a <= 80,\n",
    "    a >= 0\n",
    "]\n",
    "\n",
    "pricing_prob = cp.Problem(pricing_obj, pricing_constr)\n",
    "pricing_prob_optimal_value = pricing_prob.solve()"
   ]
  },
  {
   "cell_type": "code",
   "execution_count": 120,
   "id": "994797fe",
   "metadata": {},
   "outputs": [
    {
     "name": "stdout",
     "output_type": "stream",
     "text": [
      "Optimal Solution Value: 1.034920635633645\n",
      "----------\n",
      "Optimal Solution:\n",
      "a1: [2.]\n",
      "a2: [6.]\n",
      "a3: [0.]\n",
      "---------------\n",
      "Minimum Reduced Cost: -0.03492063563364489\n"
     ]
    }
   ],
   "source": [
    "print(\"Optimal Solution Value: {0}\".format(pricing_prob_optimal_value))\n",
    "print(\"----------\")\n",
    "print(\"Optimal Solution:\")\n",
    "print(\"a1: {0}\".format(a.value[0]))\n",
    "print(\"a2: {0}\".format(a.value[1]))\n",
    "print(\"a3: {0}\".format(a.value[2]))\n",
    "print(\"---------------\")\n",
    "print(\"Minimum Reduced Cost: {0}\".format(1-pricing_prob_optimal_value))"
   ]
  },
  {
   "cell_type": "markdown",
   "id": "9b242180",
   "metadata": {},
   "source": [
    "#### Not optimal as the minimum reduced cost is < 0"
   ]
  },
  {
   "cell_type": "markdown",
   "id": "9481d3b8",
   "metadata": {},
   "source": [
    "##### Add the column [2, 6, 0].T"
   ]
  },
  {
   "cell_type": "markdown",
   "id": "30f1e4c4",
   "metadata": {},
   "source": [
    "### RMP Step2"
   ]
  },
  {
   "cell_type": "code",
   "execution_count": 11,
   "id": "d5d95a89",
   "metadata": {},
   "outputs": [],
   "source": [
    "A = np.matrix([\n",
    "    [10, 0, 0, 2],\n",
    "    [0, 7, 0, 6],\n",
    "    [0, 0, 5, 0]\n",
    "])\n",
    "\n",
    "b = np.matrix([15, 30, 20]).T\n",
    "x = cp.Variable((4,1))\n",
    "\n",
    "rmp_obj = cp.Minimize(cp.sum(x))\n",
    "rmp_constr = [\n",
    "    A @ x == b,\n",
    "    x >= 0\n",
    "]\n",
    "\n",
    "rmp_prob = cp.Problem(rmp_obj, rmp_constr)\n",
    "rmp_prob_optimal_val = rmp_prob.solve()"
   ]
  },
  {
   "cell_type": "code",
   "execution_count": 15,
   "id": "b81ba5f2",
   "metadata": {},
   "outputs": [
    {
     "name": "stdout",
     "output_type": "stream",
     "text": [
      "Optimal Solution:\n",
      "x1: [0.50000001]\n",
      "x2: [3.34477147e-08]\n",
      "x3: [4.]\n",
      "x4: [4.99999996]\n",
      "---------------\n",
      "Basis: \n",
      "[[10  0  2]\n",
      " [ 0  0  6]\n",
      " [ 0  5  0]]\n",
      "---------------\n",
      "Basis^-1: \n",
      "[[ 0.1        -0.03333333 -0.        ]\n",
      " [ 0.         -0.          0.2       ]\n",
      " [ 0.          0.16666667  0.        ]]\n",
      "---------------\n",
      "Y_hat: \n",
      "[[0.1       ]\n",
      " [0.13333333]\n",
      " [0.2       ]]\n"
     ]
    }
   ],
   "source": [
    "#optimal solution\n",
    "print(\"Optimal Solution:\")\n",
    "print(\"x1: {0}\".format(x.value[0]))\n",
    "print(\"x2: {0}\".format(x.value[1]))\n",
    "print(\"x3: {0}\".format(x.value[2]))\n",
    "print(\"x4: {0}\".format(x.value[3]))\n",
    "print(\"---------------\")\n",
    "\n",
    "#optimal basis\n",
    "print(\"Basis: \\n{0}\".format(np.delete(A, 1, 1)))\n",
    "print(\"---------------\")\n",
    "\n",
    "#optimal basis inverse\n",
    "print(\"Basis^-1: \\n{0}\".format(linalg.inv(np.delete(A, 1, 1))))\n",
    "print(\"---------------\")\n",
    "\n",
    "#dual problem solution\n",
    "y_hat = -rmp_prob.constraints[0].dual_value\n",
    "print(\"Y_hat: \\n{0}\".format(y_hat))"
   ]
  },
  {
   "cell_type": "markdown",
   "id": "a05298af",
   "metadata": {},
   "source": [
    "### Pricing Step2"
   ]
  },
  {
   "cell_type": "code",
   "execution_count": 16,
   "id": "3919c524",
   "metadata": {},
   "outputs": [],
   "source": [
    "a = cp.Variable((3,1), integer=True)\n",
    "w = np.matrix([7, 11, 16]).T\n",
    "\n",
    "pricing_obj = cp.Maximize(y_hat.T @ a)\n",
    "pricing_constr = [\n",
    "    w.T @ a <= 80,\n",
    "    a >= 0\n",
    "]\n",
    "\n",
    "pricing_prob = cp.Problem(pricing_obj, pricing_constr)\n",
    "pricing_prob_optimal_value = pricing_prob.solve()"
   ]
  },
  {
   "cell_type": "code",
   "execution_count": 17,
   "id": "28893c3f",
   "metadata": {},
   "outputs": [
    {
     "name": "stdout",
     "output_type": "stream",
     "text": [
      "Optimal Solution Value: 1.0999999747289089\n",
      "----------\n",
      "Optimal Solution:\n",
      "a1: [9.]\n",
      "a2: [0.]\n",
      "a3: [1.]\n",
      "---------------\n",
      "Minimum Reduced Cost: -0.09999997472890887\n"
     ]
    }
   ],
   "source": [
    "print(\"Optimal Solution Value: {0}\".format(pricing_prob_optimal_value))\n",
    "print(\"----------\")\n",
    "print(\"Optimal Solution:\")\n",
    "print(\"a1: {0}\".format(a.value[0]))\n",
    "print(\"a2: {0}\".format(a.value[1]))\n",
    "print(\"a3: {0}\".format(a.value[2]))\n",
    "print(\"---------------\")\n",
    "print(\"Minimum Reduced Cost: {0}\".format(1-pricing_prob_optimal_value))"
   ]
  },
  {
   "cell_type": "markdown",
   "id": "998c7066",
   "metadata": {},
   "source": [
    "#### Not optimal as the minimum reduced cost is < 0"
   ]
  },
  {
   "cell_type": "markdown",
   "id": "c5968eac",
   "metadata": {},
   "source": [
    "##### Add the column [9, 0, 1].T"
   ]
  },
  {
   "cell_type": "markdown",
   "id": "9d923d90",
   "metadata": {},
   "source": [
    "### RMP Step3"
   ]
  },
  {
   "cell_type": "code",
   "execution_count": 18,
   "id": "e138d710",
   "metadata": {},
   "outputs": [],
   "source": [
    "A = np.matrix([\n",
    "    [10, 0, 0, 2, 9],\n",
    "    [0, 7, 0, 6, 0],\n",
    "    [0, 0, 5, 0, 1]\n",
    "])\n",
    "\n",
    "b = np.matrix([15, 30, 20]).T\n",
    "x = cp.Variable((5,1))\n",
    "\n",
    "rmp_obj = cp.Minimize(cp.sum(x))\n",
    "rmp_constr = [\n",
    "    A @ x == b,\n",
    "    x >= 0\n",
    "]\n",
    "\n",
    "rmp_prob = cp.Problem(rmp_obj, rmp_constr)\n",
    "rmp_prob_optimal_val = rmp_prob.solve()"
   ]
  },
  {
   "cell_type": "code",
   "execution_count": 22,
   "id": "79c5af67",
   "metadata": {},
   "outputs": [
    {
     "name": "stdout",
     "output_type": "stream",
     "text": [
      "Optimal Solution:\n",
      "x1: [1.62168819e-09]\n",
      "x2: [6.98983982e-09]\n",
      "x3: [3.88888889]\n",
      "x4: [4.99999999]\n",
      "x5: [0.55555556]\n",
      "---------------\n",
      "Basis: \n",
      "[[0 2 9]\n",
      " [0 6 0]\n",
      " [5 0 1]]\n",
      "---------------\n",
      "Basis^-1: \n",
      "[[-0.02222222  0.00740741  0.2       ]\n",
      " [-0.          0.16666667  0.        ]\n",
      " [ 0.11111111 -0.03703704  0.        ]]\n",
      "---------------\n",
      "Y_hat: \n",
      "[[0.08888889]\n",
      " [0.13703704]\n",
      " [0.2       ]]\n"
     ]
    }
   ],
   "source": [
    "#optimal solution\n",
    "print(\"Optimal Solution:\")\n",
    "print(\"x1: {0}\".format(x.value[0]))\n",
    "print(\"x2: {0}\".format(x.value[1]))\n",
    "print(\"x3: {0}\".format(x.value[2]))\n",
    "print(\"x4: {0}\".format(x.value[3]))\n",
    "print(\"x5: {0}\".format(x.value[4]))\n",
    "print(\"---------------\")\n",
    "\n",
    "#optimal basis\n",
    "print(\"Basis: \\n{0}\".format(np.delete(A, [0,1], 1)))\n",
    "print(\"---------------\")\n",
    "\n",
    "#optimal basis inverse\n",
    "print(\"Basis^-1: \\n{0}\".format(linalg.inv(np.delete(A, [0,1], 1))))\n",
    "print(\"---------------\")\n",
    "\n",
    "#dual problem solution\n",
    "y_hat = -rmp_prob.constraints[0].dual_value\n",
    "print(\"Y_hat: \\n{0}\".format(y_hat))"
   ]
  },
  {
   "cell_type": "markdown",
   "id": "00ba0d2d",
   "metadata": {},
   "source": [
    "### Pricing Step3"
   ]
  },
  {
   "cell_type": "code",
   "execution_count": 21,
   "id": "b6e5fb97",
   "metadata": {},
   "outputs": [],
   "source": [
    "a = cp.Variable((3,1), integer=True)\n",
    "w = np.matrix([7, 11, 16]).T\n",
    "\n",
    "pricing_obj = cp.Maximize(y_hat.T @ a)\n",
    "pricing_constr = [\n",
    "    w.T @ a <= 80,\n",
    "    a >= 0\n",
    "]\n",
    "\n",
    "pricing_prob = cp.Problem(pricing_obj, pricing_constr)\n",
    "pricing_prob_optimal_value = pricing_prob.solve()"
   ]
  },
  {
   "cell_type": "code",
   "execution_count": 23,
   "id": "f0dadacf",
   "metadata": {},
   "outputs": [
    {
     "name": "stdout",
     "output_type": "stream",
     "text": [
      "Optimal Solution Value: 1.00740740722685\n",
      "----------\n",
      "Optimal Solution:\n",
      "a1: [6.]\n",
      "a2: [2.]\n",
      "a3: [1.]\n",
      "---------------\n",
      "Minimum Reduced Cost: -0.00740740722684996\n"
     ]
    }
   ],
   "source": [
    "print(\"Optimal Solution Value: {0}\".format(pricing_prob_optimal_value))\n",
    "print(\"----------\")\n",
    "print(\"Optimal Solution:\")\n",
    "print(\"a1: {0}\".format(a.value[0]))\n",
    "print(\"a2: {0}\".format(a.value[1]))\n",
    "print(\"a3: {0}\".format(a.value[2]))\n",
    "print(\"---------------\")\n",
    "print(\"Minimum Reduced Cost: {0}\".format(1-pricing_prob_optimal_value))"
   ]
  },
  {
   "cell_type": "markdown",
   "id": "877bf941",
   "metadata": {},
   "source": [
    "#### Not optimal as the minimum reduced cost is < 0"
   ]
  },
  {
   "cell_type": "markdown",
   "id": "634d13d3",
   "metadata": {},
   "source": [
    "##### Add the column [6, 2, 1].T"
   ]
  },
  {
   "cell_type": "markdown",
   "id": "180c58e2",
   "metadata": {},
   "source": [
    "### RMP Step4"
   ]
  },
  {
   "cell_type": "code",
   "execution_count": 24,
   "id": "370cd9c0",
   "metadata": {},
   "outputs": [],
   "source": [
    "A = np.matrix([\n",
    "    [10, 0, 0, 2, 9, 6],\n",
    "    [0, 7, 0, 6, 0, 2],\n",
    "    [0, 0, 5, 0, 1, 1]\n",
    "])\n",
    "\n",
    "b = np.matrix([15, 30, 20]).T\n",
    "x = cp.Variable((6,1))\n",
    "\n",
    "rmp_obj = cp.Minimize(cp.sum(x))\n",
    "rmp_constr = [\n",
    "    A @ x == b,\n",
    "    x >= 0\n",
    "]\n",
    "\n",
    "rmp_prob = cp.Problem(rmp_obj, rmp_constr)\n",
    "rmp_prob_optimal_val = rmp_prob.solve()"
   ]
  },
  {
   "cell_type": "code",
   "execution_count": 26,
   "id": "36b21f54",
   "metadata": {},
   "outputs": [
    {
     "name": "stdout",
     "output_type": "stream",
     "text": [
      "Optimal Solution:\n",
      "x1: [1.054794e-09]\n",
      "x2: [4.75654238e-09]\n",
      "x3: [3.8125]\n",
      "x4: [4.6875]\n",
      "x5: [2.71681735e-09]\n",
      "x6: [0.9375]\n",
      "---------------\n",
      "Basis: \n",
      "[[0 2 6]\n",
      " [0 6 2]\n",
      " [5 0 1]]\n",
      "---------------\n",
      "Basis^-1: \n",
      "[[-0.0375  0.0125  0.2   ]\n",
      " [-0.0625  0.1875  0.    ]\n",
      " [ 0.1875 -0.0625  0.    ]]\n",
      "---------------\n",
      "Y_hat: \n",
      "[[0.0875]\n",
      " [0.1375]\n",
      " [0.2   ]]\n"
     ]
    }
   ],
   "source": [
    "#optimal solution\n",
    "print(\"Optimal Solution:\")\n",
    "print(\"x1: {0}\".format(x.value[0]))\n",
    "print(\"x2: {0}\".format(x.value[1]))\n",
    "print(\"x3: {0}\".format(x.value[2]))\n",
    "print(\"x4: {0}\".format(x.value[3]))\n",
    "print(\"x5: {0}\".format(x.value[4]))\n",
    "print(\"x6: {0}\".format(x.value[5]))\n",
    "print(\"---------------\")\n",
    "\n",
    "#optimal basis\n",
    "print(\"Basis: \\n{0}\".format(np.delete(A, [0,1,4], 1)))\n",
    "print(\"---------------\")\n",
    "\n",
    "#optimal basis inverse\n",
    "print(\"Basis^-1: \\n{0}\".format(linalg.inv(np.delete(A, [0,1,4], 1))))\n",
    "print(\"---------------\")\n",
    "\n",
    "#dual problem solution\n",
    "y_hat = -rmp_prob.constraints[0].dual_value\n",
    "print(\"Y_hat: \\n{0}\".format(y_hat))"
   ]
  },
  {
   "cell_type": "markdown",
   "id": "4c2155bf",
   "metadata": {},
   "source": [
    "### Pricing Step4"
   ]
  },
  {
   "cell_type": "code",
   "execution_count": 27,
   "id": "2a62f66c",
   "metadata": {},
   "outputs": [],
   "source": [
    "a = cp.Variable((3,1), integer=True)\n",
    "w = np.matrix([7, 11, 16]).T\n",
    "\n",
    "pricing_obj = cp.Maximize(y_hat.T @ a)\n",
    "pricing_constr = [\n",
    "    w.T @ a <= 80,\n",
    "    a >= 0\n",
    "]\n",
    "\n",
    "pricing_prob = cp.Problem(pricing_obj, pricing_constr)\n",
    "pricing_prob_optimal_value = pricing_prob.solve()"
   ]
  },
  {
   "cell_type": "code",
   "execution_count": 28,
   "id": "76160a3c",
   "metadata": {},
   "outputs": [
    {
     "name": "stdout",
     "output_type": "stream",
     "text": [
      "Optimal Solution Value: 1.0000000000570957\n",
      "----------\n",
      "Optimal Solution:\n",
      "a1: [0.]\n",
      "a2: [0.]\n",
      "a3: [5.]\n",
      "---------------\n",
      "Minimum Reduced Cost: -5.709566153200285e-11\n"
     ]
    }
   ],
   "source": [
    "print(\"Optimal Solution Value: {0}\".format(pricing_prob_optimal_value))\n",
    "print(\"----------\")\n",
    "print(\"Optimal Solution:\")\n",
    "print(\"a1: {0}\".format(a.value[0]))\n",
    "print(\"a2: {0}\".format(a.value[1]))\n",
    "print(\"a3: {0}\".format(a.value[2]))\n",
    "print(\"---------------\")\n",
    "print(\"Minimum Reduced Cost: {0}\".format(1-pricing_prob_optimal_value))"
   ]
  },
  {
   "cell_type": "markdown",
   "id": "b7ffc205",
   "metadata": {},
   "source": [
    "### Optimal"
   ]
  },
  {
   "cell_type": "markdown",
   "id": "c1f5b93e",
   "metadata": {},
   "source": [
    "Optimal Solution:"
   ]
  },
  {
   "cell_type": "code",
   "execution_count": 29,
   "id": "35fae324",
   "metadata": {},
   "outputs": [
    {
     "data": {
      "text/plain": [
       "array([[1.05479400e-09],\n",
       "       [4.75654238e-09],\n",
       "       [3.81250000e+00],\n",
       "       [4.68750000e+00],\n",
       "       [2.71681735e-09],\n",
       "       [9.37499996e-01]])"
      ]
     },
     "execution_count": 29,
     "metadata": {},
     "output_type": "execute_result"
    }
   ],
   "source": [
    "x.value"
   ]
  },
  {
   "cell_type": "markdown",
   "id": "5e84769f",
   "metadata": {},
   "source": [
    "Optimal Basis"
   ]
  },
  {
   "cell_type": "code",
   "execution_count": 30,
   "id": "b9a76cc9",
   "metadata": {},
   "outputs": [
    {
     "name": "stdout",
     "output_type": "stream",
     "text": [
      "Basis: \n",
      "[[0 2 6]\n",
      " [0 6 2]\n",
      " [5 0 1]]\n",
      "---------------\n",
      "Basis^-1: \n",
      "[[-0.0375  0.0125  0.2   ]\n",
      " [-0.0625  0.1875  0.    ]\n",
      " [ 0.1875 -0.0625  0.    ]]\n",
      "---------------\n"
     ]
    }
   ],
   "source": [
    "#optimal basis\n",
    "print(\"Basis: \\n{0}\".format(np.delete(A, [0,1,4], 1)))\n",
    "print(\"---------------\")\n",
    "\n",
    "#optimal basis inverse\n",
    "print(\"Basis^-1: \\n{0}\".format(linalg.inv(np.delete(A, [0,1,4], 1))))\n",
    "print(\"---------------\")"
   ]
  },
  {
   "cell_type": "markdown",
   "id": "66e82f4a",
   "metadata": {},
   "source": [
    "Optimal Objective Value"
   ]
  },
  {
   "cell_type": "code",
   "execution_count": 31,
   "id": "ceb1e298",
   "metadata": {},
   "outputs": [
    {
     "data": {
      "text/plain": [
       "9.437500000344182"
      ]
     },
     "execution_count": 31,
     "metadata": {},
     "output_type": "execute_result"
    }
   ],
   "source": [
    "rmp_prob_optimal_val"
   ]
  }
 ],
 "metadata": {
  "kernelspec": {
   "display_name": "Python 3 (ipykernel)",
   "language": "python",
   "name": "python3"
  },
  "language_info": {
   "codemirror_mode": {
    "name": "ipython",
    "version": 3
   },
   "file_extension": ".py",
   "mimetype": "text/x-python",
   "name": "python",
   "nbconvert_exporter": "python",
   "pygments_lexer": "ipython3",
   "version": "3.7.13"
  }
 },
 "nbformat": 4,
 "nbformat_minor": 5
}
