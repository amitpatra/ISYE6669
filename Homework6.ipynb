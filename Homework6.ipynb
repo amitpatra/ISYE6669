{
 "cells": [
  {
   "cell_type": "code",
   "execution_count": 1,
   "id": "adb14ae4",
   "metadata": {},
   "outputs": [],
   "source": [
    "import cvxpy as cp"
   ]
  },
  {
   "cell_type": "code",
   "execution_count": 14,
   "id": "4072c44a",
   "metadata": {},
   "outputs": [
    {
     "name": "stdout",
     "output_type": "stream",
     "text": [
      "The difference in time is: 0.00\n",
      "The number of part A to produce: 62.52\n",
      "The number of part B to produce: 31.26\n"
     ]
    }
   ],
   "source": [
    "# Minimize the absolute value of the difference in up time for two machines\n",
    "# Part A takes 3 minutes of the first machine and 4 minutes of the second\n",
    "# Part B takes 5 minutes of the first machine and 3 minutes of the second\n",
    "# You must make at least 50 total parts, 30 of Part A, and no more than 100 of either\n",
    "\n",
    "x = cp.Variable()\n",
    "y = cp.Variable()\n",
    "\n",
    "constraints = [x <= 100, y <= 100, x >= 30, (x + y) >= 50]\n",
    "objective = cp.Minimize(cp.abs((3*x + 5*y) - (4*x + 3*y)))\n",
    "problem = cp.Problem(objective, constraints)\n",
    "\n",
    "sol = problem.solve()\n",
    "print(\"The difference in time is: {0:.2f}\".format(sol))\n",
    "print(\"The number of part A to produce: {0:.2f}\".format(x.value))\n",
    "print(\"The number of part B to produce: {0:.2f}\".format(y.value))"
   ]
  },
  {
   "cell_type": "code",
   "execution_count": 15,
   "id": "9ed47b91",
   "metadata": {},
   "outputs": [
    {
     "name": "stdout",
     "output_type": "stream",
     "text": [
      "The minimum cost is $3200.00\n",
      "Supplier 1 suitcases: 0.0\n",
      "Supplier 2 suitcases: 500.0\n"
     ]
    }
   ],
   "source": [
    "# Minimize the cost to purchase 500 suitcases from 2 different suppliers\n",
    "# The first supplier charges $10 per suitcase\n",
    "# The second supplier charges $1200 as a fee, even for zero suitcases, and $5 for every additional\n",
    "# Assume the number of suitcases is linear\n",
    "\n",
    "x = cp.Variable()\n",
    "y = cp.Variable()\n",
    "\n",
    "constraints = [(x + y) == 500, y >= 100, x >= 0]\n",
    "objective = cp.Minimize(1200 + 10*x + 5*(y - 100))\n",
    "problem = cp.Problem(objective, constraints)\n",
    "\n",
    "sol = problem.solve()\n",
    "print(\"The minimum cost is ${0:.2f}\".format(solution))\n",
    "print(\"Supplier 1 suitcases: {0:.1f}\".format(x.value))\n",
    "print(\"Supplier 2 suitcases: {0:.1f}\".format(y.value))"
   ]
  },
  {
   "cell_type": "code",
   "execution_count": null,
   "id": "b7a6545e",
   "metadata": {},
   "outputs": [],
   "source": []
  }
 ],
 "metadata": {
  "kernelspec": {
   "display_name": "Python 3 (ipykernel)",
   "language": "python",
   "name": "python3"
  },
  "language_info": {
   "codemirror_mode": {
    "name": "ipython",
    "version": 3
   },
   "file_extension": ".py",
   "mimetype": "text/x-python",
   "name": "python",
   "nbconvert_exporter": "python",
   "pygments_lexer": "ipython3",
   "version": "3.7.13"
  }
 },
 "nbformat": 4,
 "nbformat_minor": 5
}
